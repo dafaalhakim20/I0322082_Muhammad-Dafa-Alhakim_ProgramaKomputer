{
 "cells": [
  {
   "cell_type": "code",
   "execution_count": 1,
   "metadata": {},
   "outputs": [
    {
     "name": "stdout",
     "output_type": "stream",
     "text": [
      "[[1 2]\n",
      " [3 1]]\n"
     ]
    }
   ],
   "source": [
    "#Buatlah sebuah fungsi untuk membuat matrix berdasarkan input dari user\n",
    "import numpy as np\n",
    "\n",
    "def create_matrix(baris,kolom):\n",
    "    matrix = [[0 for j in range (kolom)]for i in range (baris)]\n",
    "    for i in range (baris):\n",
    "        for j in range (kolom):\n",
    "            matrix[i][j] =int(input(f\"Masukkan angka untuk [{i+1}][{j+1}] : \"))\n",
    "\n",
    "    ViewMatrix = np.array(matrix)\n",
    "    return ViewMatrix\n",
    "\n",
    "\n",
    "print(create_matrix(baris = int(input('Masukkan Jumlah Baris:\\t')), kolom = int(input('Masukkan Jumlah Kolom:\\t'))))"
   ]
  },
  {
   "cell_type": "code",
   "execution_count": 8,
   "metadata": {},
   "outputs": [
    {
     "name": "stdout",
     "output_type": "stream",
     "text": [
      "Matrix: \n",
      "[[3 4 5]\n",
      " [4 2 3]\n",
      " [2 3 5]]\n",
      "Determinan dari matrix tersebut adalah -13\n"
     ]
    }
   ],
   "source": [
    "#Buatlah sebuah fungsi untuk mencari determinan matrix berdasarkan input matrix dari user\n",
    "\n",
    "import numpy as np\n",
    "\n",
    "def determinan():\n",
    "    baris = int(input('Masukkan Jumlah Baris Matrix : '))\n",
    "    kolom = int(input('Masukkan Jumlah Kolom Matrix : '))\n",
    "    if baris == 2 and kolom == 2:\n",
    "        det = []\n",
    "        matrix = [[0 for j in range (kolom)]for i in range (baris)]\n",
    "        for i in range(baris):\n",
    "            for j in range(kolom):\n",
    "                matrix[i][j] =int(input(f\"Masukkan elemen untuk [{i+1}][{j+1}] : \"))\n",
    "        view_matrix = np.array(matrix)\n",
    "        print(f'Matrix: \\n{view_matrix}')\n",
    "        hitung_determinan = (matrix[0][0] * matrix[1][1]) - (matrix[0][1] * matrix[1][0])\n",
    "        det.append(hitung_determinan)\n",
    "        int_det = det[0]\n",
    "    elif baris == 3 and kolom == 3:\n",
    "        det = []\n",
    "        matrix = [[0 for j in range (kolom)]for i in range (baris)]\n",
    "        for i in range(baris):\n",
    "            for j in range(kolom):\n",
    "                matrix[i][j] =int(input(f\"Masukkan elemen untuk [{i+1}][{j+1}] : \"))\n",
    "        view_matrix = np.array(matrix)\n",
    "        print(f'Matrix: \\n{view_matrix}')\n",
    "        hitung_determinan = (matrix[0][0] * matrix[1][1] * matrix[2][2]) + (matrix[0][1] * matrix[1][2] * matrix[2][0]) + (matrix[0][2] * matrix[1][0] * matrix[2][1]) - (matrix[0][2] * matrix[1][1] * matrix[2][0]) - (matrix[0][1] * matrix[1][0] * matrix[2][2]) - (matrix[0][0] * matrix[1][2] * matrix[2][1])\n",
    "        det.append(hitung_determinan)\n",
    "        int_det = det[0]\n",
    "    else:\n",
    "        print('Maaf program ini hanya bisa untuk matrix 2x2 dan matrix 3x3')\n",
    "\n",
    "    return int_det\n",
    "print('Determinan dari matrix tersebut adalah', determinan())"
   ]
  },
  {
   "cell_type": "code",
   "execution_count": 5,
   "metadata": {},
   "outputs": [
    {
     "name": "stdout",
     "output_type": "stream",
     "text": [
      "matrix 1 = [[1, 2, 3], [2, 3, 2], [3, 3, 4]]\n",
      "matrix 2 = [[3, 1], [4, 6]]\n",
      "[11, 13]\n",
      "[18, 20]\n",
      "[21, 21]\n"
     ]
    }
   ],
   "source": [
    "#Buatlah fungsi untuk mengakalikan dua buah matrix berdasarkan input user menggunakan nested loop\n",
    "\n",
    "def create_matrix1(baris1, kolom1):\n",
    "    global matrix1\n",
    "    matrix1 = [[0 for j in range(kolom1)]for i in range(baris1)]\n",
    "    for i in range(baris1):\n",
    "        for j in range(kolom1):\n",
    "            matrix1[i][j] = int(input(f\"Masukkan elemen untuk [{i+1}][{j+1}] : \"))\n",
    "    return matrix1\n",
    " \n",
    "baris1 = int(input('Masukkan Jumlah Baris Matrix 1:\\t'))\n",
    "kolom1 = int(input('Masukkan Jumlah Kolom Matrix 1:\\t'))\n",
    "create_matrix1(baris1, kolom1)\n",
    "\n",
    "def create_matrix2(baris2, kolom2):\n",
    "    global matrix2\n",
    "    matrix2 = [[0 for j in range(kolom2)]for i in range(baris2)]\n",
    "    for i in range(baris2):\n",
    "        for j in range(kolom2):\n",
    "            matrix2[i][j] = int(input(f\"Masukkan elemen untuk [{i+1}][{j+1}] : \"))\n",
    "    return matrix2\n",
    "\n",
    "\n",
    "baris2 = int(input('Masukkan Jumlah Baris Matrix 2:\\t'))\n",
    "kolom2 = int(input('Masukkan Jumlah Kolom Matrix 2:\\t'))\n",
    "create_matrix2(baris2, kolom2)\n",
    "\n",
    "def multiply_matrix(matrix1, matrix2):\n",
    "    m = len(matrix1)\n",
    "    n = len(matrix2[0])\n",
    "    p = len(matrix2)\n",
    "    \n",
    "    result = [[0 for j in range(n)] for i in range(m)]\n",
    "    for i in range(m):\n",
    "        for j in range(n):\n",
    "            for k in range(p):\n",
    "                result[i][j] += matrix1[i][k] * matrix2[k][j]\n",
    "    \n",
    "    for r in result:\n",
    "        print(r)\n",
    "\n",
    "print('matrix 1 =',matrix1)\n",
    "print('matrix 2 =',matrix2)\n",
    "multiply_matrix(matrix1, matrix2)"
   ]
  }
 ],
 "metadata": {
  "kernelspec": {
   "display_name": "Python 3",
   "language": "python",
   "name": "python3"
  },
  "language_info": {
   "codemirror_mode": {
    "name": "ipython",
    "version": 3
   },
   "file_extension": ".py",
   "mimetype": "text/x-python",
   "name": "python",
   "nbconvert_exporter": "python",
   "pygments_lexer": "ipython3",
   "version": "3.10.7"
  },
  "orig_nbformat": 4
 },
 "nbformat": 4,
 "nbformat_minor": 2
}
