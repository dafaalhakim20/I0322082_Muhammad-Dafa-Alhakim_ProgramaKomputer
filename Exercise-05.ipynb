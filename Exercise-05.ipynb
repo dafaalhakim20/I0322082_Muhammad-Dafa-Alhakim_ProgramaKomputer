{
 "cells": [
  {
   "attachments": {},
   "cell_type": "markdown",
   "metadata": {},
   "source": [
    "1. Buatlah program untuk menghitung pangkat 2 dari angka 1 hingga 50!"
   ]
  },
  {
   "cell_type": "code",
   "execution_count": 8,
   "metadata": {},
   "outputs": [
    {
     "name": "stdout",
     "output_type": "stream",
     "text": [
      "Pangkat 2 dari angka 1 adalah 1\n",
      "Pangkat 2 dari angka 2 adalah 4\n",
      "Pangkat 2 dari angka 3 adalah 9\n",
      "Pangkat 2 dari angka 4 adalah 16\n",
      "Pangkat 2 dari angka 5 adalah 25\n",
      "Pangkat 2 dari angka 6 adalah 36\n",
      "Pangkat 2 dari angka 7 adalah 49\n",
      "Pangkat 2 dari angka 8 adalah 64\n",
      "Pangkat 2 dari angka 9 adalah 81\n",
      "Pangkat 2 dari angka 10 adalah 100\n",
      "Pangkat 2 dari angka 11 adalah 121\n",
      "Pangkat 2 dari angka 12 adalah 144\n",
      "Pangkat 2 dari angka 13 adalah 169\n",
      "Pangkat 2 dari angka 14 adalah 196\n",
      "Pangkat 2 dari angka 15 adalah 225\n",
      "Pangkat 2 dari angka 16 adalah 256\n",
      "Pangkat 2 dari angka 17 adalah 289\n",
      "Pangkat 2 dari angka 18 adalah 324\n",
      "Pangkat 2 dari angka 19 adalah 361\n",
      "Pangkat 2 dari angka 20 adalah 400\n",
      "Pangkat 2 dari angka 21 adalah 441\n",
      "Pangkat 2 dari angka 22 adalah 484\n",
      "Pangkat 2 dari angka 23 adalah 529\n",
      "Pangkat 2 dari angka 24 adalah 576\n",
      "Pangkat 2 dari angka 25 adalah 625\n",
      "Pangkat 2 dari angka 26 adalah 676\n",
      "Pangkat 2 dari angka 27 adalah 729\n",
      "Pangkat 2 dari angka 28 adalah 784\n",
      "Pangkat 2 dari angka 29 adalah 841\n",
      "Pangkat 2 dari angka 30 adalah 900\n",
      "Pangkat 2 dari angka 31 adalah 961\n",
      "Pangkat 2 dari angka 32 adalah 1024\n",
      "Pangkat 2 dari angka 33 adalah 1089\n",
      "Pangkat 2 dari angka 34 adalah 1156\n",
      "Pangkat 2 dari angka 35 adalah 1225\n",
      "Pangkat 2 dari angka 36 adalah 1296\n",
      "Pangkat 2 dari angka 37 adalah 1369\n",
      "Pangkat 2 dari angka 38 adalah 1444\n",
      "Pangkat 2 dari angka 39 adalah 1521\n",
      "Pangkat 2 dari angka 40 adalah 1600\n",
      "Pangkat 2 dari angka 41 adalah 1681\n",
      "Pangkat 2 dari angka 42 adalah 1764\n",
      "Pangkat 2 dari angka 43 adalah 1849\n",
      "Pangkat 2 dari angka 44 adalah 1936\n",
      "Pangkat 2 dari angka 45 adalah 2025\n",
      "Pangkat 2 dari angka 46 adalah 2116\n",
      "Pangkat 2 dari angka 47 adalah 2209\n",
      "Pangkat 2 dari angka 48 adalah 2304\n",
      "Pangkat 2 dari angka 49 adalah 2401\n",
      "Pangkat 2 dari angka 50 adalah 2500\n"
     ]
    }
   ],
   "source": [
    "# Kerjakan nomor 1 di sini\n",
    "for i in range(1,51):\n",
    "    print(f\"Pangkat 2 dari angka {i} adalah {i**2}\")\n"
   ]
  },
  {
   "attachments": {},
   "cell_type": "markdown",
   "metadata": {},
   "source": [
    "2. Buatlah sebuah list yang berisi daftar nama mahasiswa angkatan kalian minimal sejumlah 10 nama. Kemudian buat program pencarian menggunakan pengulangan, di mana apabila nama yang user inputkan sudah sesuai dengan isi list maka program akan berhenti dan menampilkan output \"Pencarian anda sudah berakhir\""
   ]
  },
  {
   "attachments": {},
   "cell_type": "markdown",
   "metadata": {},
   "source": [
    "catatan: perhatikan user dapat menginputkan menggunakan baik huruf kapital maupun tidak"
   ]
  },
  {
   "cell_type": "code",
   "execution_count": 18,
   "metadata": {},
   "outputs": [
    {
     "name": "stdout",
     "output_type": "stream",
     "text": [
      "pencarian anda sudah berakhir\n"
     ]
    }
   ],
   "source": [
    "# Kerjakan nomor 2 di sini\n",
    "NamaMahasiswa = ['dafa alhakim', 'pradipta dani', 'yusuf habibi', 'helmi rafif', 'katon adiluhung', 'ilham ryan', 'ilham wadini', 'fahriza fadhilah', 'chezava deananta', 'rizal hakim','rafi narendraji']\n",
    "src = input('Masukkan Nama Mahasiswa')\n",
    "src = src.lower()\n",
    "for x in NamaMahasiswa:\n",
    "    if src == x:\n",
    "        print('pencarian anda sudah berakhir')\n",
    "        break\n",
    "    print(x)"
   ]
  },
  {
   "attachments": {},
   "cell_type": "markdown",
   "metadata": {},
   "source": [
    "3. Disajikan list sebagai berikut "
   ]
  },
  {
   "cell_type": "code",
   "execution_count": null,
   "metadata": {},
   "outputs": [],
   "source": [
    "bulan = ['januari', 'februari', 'maret', 'april','mei','juni','juli','agustus','september','oktober','november','desember']\n",
    "kota = ['jakarta' , 'kuala lumpur', 'bangkok', 'seoul', 'canada','london','dubai','barcelona']"
   ]
  },
  {
   "attachments": {},
   "cell_type": "markdown",
   "metadata": {},
   "source": [
    "Robert adalah seorang penyanyi terkenal. Dia merencanakan konser world tour di tahun 2024 mendatang di berbagai negara. Dengan catatan pada bulan April dan Mei, Robert kembali ke indonesia untuk istirahat sejenak kemudian melanjutkan lagi konser. Berdasarkan kasus tersebut buatlah program pengulangannya!"
   ]
  },
  {
   "cell_type": "code",
   "execution_count": 9,
   "metadata": {},
   "outputs": [
    {
     "name": "stdout",
     "output_type": "stream",
     "text": [
      "Robert akan mengadakan  konser pada bulan januari di Kota Besar yaitu jakarta\n",
      "Robert akan mengadakan  konser pada bulan februari di Kota Besar yaitu kuala lumpur\n",
      "Robert akan mengadakan  konser pada bulan maret di Kota Besar yaitu bangkok\n",
      "Pada Bulan april Robert akan kembali ke indonesia untuk istirahat\n",
      "Pada Bulan mei Robert akan kembali ke indonesia untuk istirahat\n",
      "Robert akan mengadakan  konser pada bulan juni di Kota Besar yaitu seoul\n",
      "Robert akan mengadakan  konser pada bulan juli di Kota Besar yaitu canada\n",
      "Robert akan mengadakan  konser pada bulan agustus di Kota Besar yaitu london\n",
      "Robert akan mengadakan  konser pada bulan september di Kota Besar yaitu dubai\n",
      "Robert akan mengadakan  konser pada bulan oktober di Kota Besar yaitu barcelona\n",
      "Robert akan mengadakan  konser pada bulan november di Kota Besar yaitu london\n",
      "Robert akan mengadakan  konser pada bulan desember di Kota Besar yaitu dubai\n"
     ]
    }
   ],
   "source": [
    "# kerjakan nomor 3 di sini\n",
    "import random\n",
    "x = 0\n",
    "for i in bulan:\n",
    "    if i in ['april', 'mei']:\n",
    "        print(f\"Pada Bulan {i} Robert akan kembali ke indonesia untuk istirahat\")\n",
    "        continue\n",
    "    print(f\"Robert akan mengadakan  konser pada bulan {i} di Kota Besar yaitu\", kota[x])\n",
    "    x+=1\n",
    "    if x == 8:\n",
    "        x = random.randrange(0,8)\n"
   ]
  }
 ],
 "metadata": {
  "kernelspec": {
   "display_name": "Python 3",
   "language": "python",
   "name": "python3"
  },
  "language_info": {
   "codemirror_mode": {
    "name": "ipython",
    "version": 3
   },
   "file_extension": ".py",
   "mimetype": "text/x-python",
   "name": "python",
   "nbconvert_exporter": "python",
   "pygments_lexer": "ipython3",
   "version": "3.10.7"
  },
  "orig_nbformat": 4
 },
 "nbformat": 4,
 "nbformat_minor": 2
}
