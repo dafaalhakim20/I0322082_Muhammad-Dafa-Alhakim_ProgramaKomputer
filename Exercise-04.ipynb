{
 "cells": [
  {
   "cell_type": "code",
   "execution_count": 1,
   "metadata": {},
   "outputs": [
    {
     "name": "stdout",
     "output_type": "stream",
     "text": [
      "Muhammad Dafa Alhakim\n",
      "I0322082\n",
      "Kelas C\n"
     ]
    }
   ],
   "source": [
    "print(input(\"Nama: \"))\n",
    "print(input(\"NIM: \"))\n",
    "print(input(\"Kelas: \"))"
   ]
  },
  {
   "attachments": {},
   "cell_type": "markdown",
   "metadata": {},
   "source": [
    "## 1."
   ]
  },
  {
   "attachments": {},
   "cell_type": "markdown",
   "metadata": {},
   "source": [
    "Buatlah program yang menampilkan tarif pajak yang harus dibayarkan oleh user dengan input yaitu nama user dan pendapatan dari user.<br>\n",
    "Dengan ketentuan sebagai berikut:\n",
    "* Jika pendapatan kurang dari atau sama dengan 10 juta, maka tarif pajak adalah 2,5%\n",
    "* Jika pendapatan kurang dari atau sama dengan 20 juta, maka tarif pajak adalah 5%\n",
    "* Jika pendapatan kurang dari atau sama dengan 50 juta, maka tarif pajak adalah 10%.\n",
    "* Jika pendapatan lebih dari 50 juta, maka tarif pajak adalah 12,5%.\n",
    "> *note: Kerjakan soal ini dengan percabangan*"
   ]
  },
  {
   "cell_type": "code",
   "execution_count": 10,
   "metadata": {},
   "outputs": [
    {
     "name": "stdout",
     "output_type": "stream",
     "text": [
      "Pajak Pendapatan yang harus dibayarkan\n",
      "-Jika Pendapatan ≤ 10 Juta, maka tarif pajaknya 2,5% \n",
      "-Jika Pendapatan ≤ 20 Juta, maka tarif pajaknya 5% \n",
      "-Jika Pendapatan ≤ 50 Juta, maka tarif pajaknya 10% \n",
      "-Jika Pendapatan > 50 Juta, maka tarif pajaknya 12,5%\n",
      "====================================================\n",
      "Nama : Dafa Alhakim\n",
      "Pendapatan Kerja 10000000\n",
      "Dengan itu Pajak yang harus dibayarkan sebesar Rp. 250000.0\n"
     ]
    }
   ],
   "source": [
    "# Kerjakan soal no 1 di sini\n",
    "#PAJAK PENDAPATAN\n",
    "NamaPenduduk= str(input(\"Masukkan Nama anda= \"))\n",
    "Pendapatan= int(input(\"Masukkan Pedapatan anda= \"))\n",
    "\n",
    "print(\"Pajak Pendapatan yang harus dibayarkan\\n-Jika Pendapatan ≤ 10 Juta, maka tarif pajaknya 2,5% \\n-Jika Pendapatan ≤ 20 Juta, maka tarif pajaknya 5% \\n-Jika Pendapatan ≤ 50 Juta, maka tarif pajaknya 10% \\n-Jika Pendapatan > 50 Juta, maka tarif pajaknya 12,5%\")\n",
    "print(\"====================================================\")\n",
    "print(\"Nama :\",NamaPenduduk)\n",
    "print(\"Pendapatan Kerja\",Pendapatan)\n",
    "if Pendapatan<=10000000:\n",
    "    Pajak=Pendapatan*0.025\n",
    "    print(\"Dengan itu Pajak yang harus dibayarkan sebesar Rp.\",Pajak)\n",
    "elif Pendapatan<=20000000:\n",
    "    Pajak=Pendapatan*0.05\n",
    "    print(\"Dengan itu Pajak yang harus dibayarkan sebesar Rp.\",Pajak)\n",
    "elif Pendapatan<=50000000:\n",
    "    Pajak=Pendapatan*0.1\n",
    "    print(\"Dengan itu Pajak yang harus dibayarkan sebesar Rp.\",Pajak)\n",
    "elif Pendapatan>50000000:\n",
    "    Pajak=Pendapatan*0.125\n",
    "    print(\"Dengan itu Pajak yang harus dibayarkan sebesar Rp.\",Pajak)\n"
   ]
  },
  {
   "attachments": {},
   "cell_type": "markdown",
   "metadata": {},
   "source": [
    "## 2."
   ]
  },
  {
   "attachments": {},
   "cell_type": "markdown",
   "metadata": {},
   "source": [
    "Buatlah program yang menampilkan akan melakukan validasi apakah mahasiswa tersebut berasal dari TI UNS berdasarkan NIM yang diinput oleh user:\n",
    "<br>Dengan ketentuan sebagai berikut:\n",
    "* NIM mahasiswa TI harus dimulai dengan \"I03\" dengan total panjang 8 karakter (I0320078 adalah contoh NIM mahasiswa TI UNS)\n",
    "* Program akan menampilkan pesan \"NIM mahasiswa TI UNS\" jika NIM yang dimasukkan sesuai dengan format yang dijelaskan di atas, dan akan menampilkan pesan \"NIM Anda tidak valid\" jika tidak sesuai.\n",
    "> *note: Kerjakan soal ini dengan percabangan*"
   ]
  },
  {
   "cell_type": "code",
   "execution_count": 12,
   "metadata": {},
   "outputs": [
    {
     "name": "stdout",
     "output_type": "stream",
     "text": [
      "Dafa Alhakim\n",
      "NIM I0322082 SESUAI DENGAN MAHASISWA TI UNS\n"
     ]
    }
   ],
   "source": [
    "# Kerjakan soal no 2 di sini\n",
    "# VALIDASI NIM\n",
    "nama=print(input(\"Masukan Nama Anda=\"))\n",
    "nim=input(\"Masukan NIM Anda=\")\n",
    "if nim.startswith(\"I03\") and len(nim)==8:\n",
    "    print(\"NIM\",nim,\"SESUAI DENGAN MAHASISWA TI UNS\")\n",
    "else:\n",
    "    print(\"NIM ANDA TIDAK VALID\")"
   ]
  }
 ],
 "metadata": {
  "kernelspec": {
   "display_name": "Python 3",
   "language": "python",
   "name": "python3"
  },
  "language_info": {
   "codemirror_mode": {
    "name": "ipython",
    "version": 3
   },
   "file_extension": ".py",
   "mimetype": "text/x-python",
   "name": "python",
   "nbconvert_exporter": "python",
   "pygments_lexer": "ipython3",
   "version": "3.10.7"
  },
  "orig_nbformat": 4
 },
 "nbformat": 4,
 "nbformat_minor": 2
}
